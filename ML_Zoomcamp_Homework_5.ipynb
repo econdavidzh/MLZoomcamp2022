{
  "nbformat": 4,
  "nbformat_minor": 0,
  "metadata": {
    "colab": {
      "provenance": [],
      "collapsed_sections": []
    },
    "kernelspec": {
      "name": "python3",
      "display_name": "Python 3"
    },
    "language_info": {
      "name": "python"
    }
  },
  "cells": [
    {
      "cell_type": "markdown",
      "source": [
        "## Question 1\n",
        "Install Pipenv \\\n",
        "What's the version of pipenv you installed? \\\n",
        "Use `--version` to find out"
      ],
      "metadata": {
        "id": "xpATLtSAYual"
      }
    },
    {
      "cell_type": "code",
      "execution_count": 33,
      "metadata": {
        "colab": {
          "base_uri": "https://localhost:8080/"
        },
        "id": "uoYLEQubYoGT",
        "outputId": "64ad7599-a119-42e5-8c5e-71edf120a9e2"
      },
      "outputs": [
        {
          "output_type": "stream",
          "name": "stdout",
          "text": [
            "Looking in indexes: https://pypi.org/simple, https://us-python.pkg.dev/colab-wheels/public/simple/\n",
            "Requirement already satisfied: pipenv in /usr/local/lib/python3.7/dist-packages (2022.9.24)\n",
            "Requirement already satisfied: virtualenv-clone>=0.2.5 in /usr/local/lib/python3.7/dist-packages (from pipenv) (0.5.7)\n",
            "Requirement already satisfied: virtualenv in /usr/local/lib/python3.7/dist-packages (from pipenv) (20.16.5)\n",
            "Requirement already satisfied: certifi in /usr/local/lib/python3.7/dist-packages (from pipenv) (2022.6.15)\n",
            "Requirement already satisfied: setuptools>=36.2.1 in /usr/local/lib/python3.7/dist-packages (from pipenv) (57.4.0)\n",
            "Requirement already satisfied: importlib-metadata>=4.8.3 in /usr/local/lib/python3.7/dist-packages (from virtualenv->pipenv) (4.12.0)\n",
            "Requirement already satisfied: platformdirs<3,>=2.4 in /usr/local/lib/python3.7/dist-packages (from virtualenv->pipenv) (2.5.2)\n",
            "Requirement already satisfied: filelock<4,>=3.4.1 in /usr/local/lib/python3.7/dist-packages (from virtualenv->pipenv) (3.8.0)\n",
            "Requirement already satisfied: distlib<1,>=0.3.5 in /usr/local/lib/python3.7/dist-packages (from virtualenv->pipenv) (0.3.6)\n",
            "Requirement already satisfied: zipp>=0.5 in /usr/local/lib/python3.7/dist-packages (from importlib-metadata>=4.8.3->virtualenv->pipenv) (3.8.1)\n",
            "Requirement already satisfied: typing-extensions>=3.6.4 in /usr/local/lib/python3.7/dist-packages (from importlib-metadata>=4.8.3->virtualenv->pipenv) (4.1.1)\n"
          ]
        }
      ],
      "source": [
        "!pip install pipenv"
      ]
    },
    {
      "cell_type": "code",
      "source": [
        "!pipenv --version"
      ],
      "metadata": {
        "colab": {
          "base_uri": "https://localhost:8080/"
        },
        "id": "7bTRcII6ZATV",
        "outputId": "b196d0ab-5c45-4e9d-d805-c388dbf607b6"
      },
      "execution_count": 34,
      "outputs": [
        {
          "output_type": "stream",
          "name": "stdout",
          "text": [
            "\u001b[1mpipenv\u001b[0m, version 2022.9.24\n",
            "\u001b[0m"
          ]
        }
      ]
    },
    {
      "cell_type": "markdown",
      "source": [
        "## Question 2\n",
        "Use Pipenv to install Scikit-Learn version 1.0.2 \\\n",
        "What's the first hash for scikit-learn you get in Pipfile.lock?"
      ],
      "metadata": {
        "id": "_f_qol2Va2SX"
      }
    },
    {
      "cell_type": "code",
      "source": [
        "!pipenv install scikit-learn==1.0.2"
      ],
      "metadata": {
        "colab": {
          "base_uri": "https://localhost:8080/"
        },
        "id": "bTVN02mlZH9m",
        "outputId": "1ad3e51e-b201-4deb-fc99-4fff7b527db0"
      },
      "execution_count": 35,
      "outputs": [
        {
          "output_type": "stream",
          "name": "stdout",
          "text": [
            "\u001b[32m\u001b[1mInstalling scikit-learn==1.0.2...\u001b[0m\n",
            "\u001b[K\u001b[1mAdding\u001b[0m \u001b[32m\u001b[1mscikit-learn\u001b[0m \u001b[1mto Pipfile's\u001b[0m \u001b[33m\u001b[1m[packages]\u001b[0m\u001b[1m...\u001b[0m\n",
            "\u001b[K\u001b[?25h✔ Installation Succeeded\u001b[0m \n",
            "\u001b[1mInstalling dependencies from Pipfile.lock (97dec5)...\u001b[0m\n",
            "To activate this project's virtualenv, run \u001b[33mpipenv shell\u001b[0m.\n",
            "Alternatively, run a command inside the virtualenv with \u001b[33mpipenv run\u001b[0m.\n",
            "\u001b[0m"
          ]
        }
      ]
    },
    {
      "cell_type": "code",
      "source": [
        "!pipenv shell"
      ],
      "metadata": {
        "colab": {
          "base_uri": "https://localhost:8080/"
        },
        "id": "y-fh1S7QbObz",
        "outputId": "97104270-7a27-4922-9ddb-16b31ed74d33"
      },
      "execution_count": 36,
      "outputs": [
        {
          "output_type": "stream",
          "name": "stdout",
          "text": [
            "Launching subshell in virtual environment...\n",
            "\u001b[01;34m/content\u001b[00m#  . /root/.local/share/virtualenvs/content-cQIIIOO2/bin/activate\r\n",
            "(content) \u001b[01;34m/content\u001b[00m# \n",
            "Aborted!\n",
            "^C\n"
          ]
        }
      ]
    },
    {
      "cell_type": "markdown",
      "source": [
        "## Models"
      ],
      "metadata": {
        "id": "OkwZP7epd5b6"
      }
    },
    {
      "cell_type": "code",
      "source": [
        "!pip install wget"
      ],
      "metadata": {
        "colab": {
          "base_uri": "https://localhost:8080/"
        },
        "id": "wPYYdoEseGhT",
        "outputId": "1675e10b-0f56-4f35-e3de-2f21546fd5a0"
      },
      "execution_count": 37,
      "outputs": [
        {
          "output_type": "stream",
          "name": "stdout",
          "text": [
            "Looking in indexes: https://pypi.org/simple, https://us-python.pkg.dev/colab-wheels/public/simple/\n",
            "Requirement already satisfied: wget in /usr/local/lib/python3.7/dist-packages (3.2)\n"
          ]
        }
      ]
    },
    {
      "cell_type": "code",
      "source": [
        "import wget"
      ],
      "metadata": {
        "id": "lgJmlAP6eQFk"
      },
      "execution_count": 38,
      "outputs": []
    },
    {
      "cell_type": "code",
      "source": [
        "PREFIX = \"https://raw.githubusercontent.com/alexeygrigorev/mlbookcamp-code/master/course-zoomcamp/cohorts/2022/05-deployment/homework\"\n",
        "wget.download(PREFIX+\"/model1.bin\")\n",
        "wget.download(PREFIX+\"/dv.bin\")"
      ],
      "metadata": {
        "id": "B9xndMcSdIHO"
      },
      "execution_count": null,
      "outputs": []
    },
    {
      "cell_type": "markdown",
      "source": [
        "## Question 3\n",
        "Let's use these models!\n",
        "\n",
        "Write a script for loading these models with pickle. Score this client:\n",
        "\n",
        "```\n",
        "{\"reports\": 0, \"share\": 0.001694, \"expenditure\": 0.12, \"owner\": \"yes\"}\n",
        "```\n",
        "What's the probability that this client will get a credit card?"
      ],
      "metadata": {
        "id": "1uwRvCBDipQE"
      }
    },
    {
      "cell_type": "code",
      "source": [
        "import pickle"
      ],
      "metadata": {
        "id": "eJgi2L1iecB9"
      },
      "execution_count": 40,
      "outputs": []
    },
    {
      "cell_type": "code",
      "source": [
        "model = pickle.load(open('model1.bin', 'rb'))\n",
        "model.get_params()"
      ],
      "metadata": {
        "colab": {
          "base_uri": "https://localhost:8080/"
        },
        "id": "_SktGsi4ip3T",
        "outputId": "fb52d82f-f932-4568-f4a5-584ac91e4b91"
      },
      "execution_count": 41,
      "outputs": [
        {
          "output_type": "execute_result",
          "data": {
            "text/plain": [
              "{'C': 1.0,\n",
              " 'class_weight': None,\n",
              " 'dual': False,\n",
              " 'fit_intercept': True,\n",
              " 'intercept_scaling': 1,\n",
              " 'l1_ratio': None,\n",
              " 'max_iter': 100,\n",
              " 'multi_class': 'auto',\n",
              " 'n_jobs': None,\n",
              " 'penalty': 'l2',\n",
              " 'random_state': None,\n",
              " 'solver': 'liblinear',\n",
              " 'tol': 0.0001,\n",
              " 'verbose': 0,\n",
              " 'warm_start': False}"
            ]
          },
          "metadata": {},
          "execution_count": 41
        }
      ]
    },
    {
      "cell_type": "code",
      "source": [
        "dv = pickle.load(open('dv.bin', 'rb'))"
      ],
      "metadata": {
        "id": "Aj0P8SOFjpe0"
      },
      "execution_count": 42,
      "outputs": []
    },
    {
      "cell_type": "code",
      "source": [
        "X = {\"reports\": 0, \"share\": 0.001694, \"expenditure\": 0.12, \"owner\": \"yes\"}\n",
        "X = dv.transform([X])\n",
        "model.predict_proba(X)[0, 1]"
      ],
      "metadata": {
        "colab": {
          "base_uri": "https://localhost:8080/"
        },
        "id": "2cg9XuEBjN1j",
        "outputId": "2b011c6e-cccc-46f6-a17f-0c46835f0da0"
      },
      "execution_count": 43,
      "outputs": [
        {
          "output_type": "execute_result",
          "data": {
            "text/plain": [
              "0.16213414434326598"
            ]
          },
          "metadata": {},
          "execution_count": 43
        }
      ]
    },
    {
      "cell_type": "code",
      "source": [
        "model.predict(X)[0]"
      ],
      "metadata": {
        "colab": {
          "base_uri": "https://localhost:8080/"
        },
        "id": "TbOB-U_sku3X",
        "outputId": "4469daad-c6e4-4fe6-89c9-36157e8d7f44"
      },
      "execution_count": 44,
      "outputs": [
        {
          "output_type": "execute_result",
          "data": {
            "text/plain": [
              "0"
            ]
          },
          "metadata": {},
          "execution_count": 44
        }
      ]
    },
    {
      "cell_type": "code",
      "source": [
        "model.predict_log_proba(X)[0, 1]"
      ],
      "metadata": {
        "colab": {
          "base_uri": "https://localhost:8080/"
        },
        "id": "BWeWL0pgjRaV",
        "outputId": "287660f4-6dbd-4ebb-9668-0454943e2938"
      },
      "execution_count": 45,
      "outputs": [
        {
          "output_type": "execute_result",
          "data": {
            "text/plain": [
              "-1.8193312348936168"
            ]
          },
          "metadata": {},
          "execution_count": 45
        }
      ]
    },
    {
      "cell_type": "markdown",
      "source": [
        "## Question 4\n",
        "Now let's serve this model as a web service\n",
        "\n",
        "Install Flask and gunicorn (or waitress, if you're on Windows) \\\n",
        "Write Flask code for serving the model\n",
        "Now score this client using requests:"
      ],
      "metadata": {
        "id": "KMBGjoqYlErK"
      }
    },
    {
      "cell_type": "code",
      "source": [
        "from flask import Flask\n",
        "from flask import request\n",
        "from flask import jsonify\n",
        "\n",
        "\n",
        "app = Flask('churn')\n",
        "\n",
        "@app.route('/predict', methods=['POST'])\n",
        "def predict():\n",
        "    customer = request.get_json()\n",
        "\n",
        "    X = dv.transform([customer])\n",
        "    y_pred = model.predict_proba(X)[0, 1]\n",
        "    churn = y_pred >= 0.5\n",
        "\n",
        "    result = {\n",
        "        'churn_probability': float(y_pred),\n",
        "        'churn': bool(churn)\n",
        "    }\n",
        "\n",
        "    return jsonify(result)\n",
        "\n",
        "\n",
        "if __name__ == \"__main__\":\n",
        "    app.run(debug=True, host='0.0.0.0', port=9696)"
      ],
      "metadata": {
        "id": "jCom1jhik2Kp"
      },
      "execution_count": null,
      "outputs": []
    },
    {
      "cell_type": "code",
      "source": [
        "client = {\"reports\": 0, \"share\": 0.245, \"expenditure\": 3.438, \"owner\": \"yes\"}\n",
        "X = dv.transform([client])\n",
        "y_pred = model.predict_proba(X)[0, 1]\n",
        "churn = y_pred >= 0.5\n",
        "\n",
        "result = {'churn_probability': float(y_pred),\n",
        "          'churn': bool(churn)}\n",
        "\n",
        "result"
      ],
      "metadata": {
        "colab": {
          "base_uri": "https://localhost:8080/"
        },
        "id": "W_ccjUd0lnvW",
        "outputId": "ea63bac8-76c2-4157-887d-8fe5427f53cf"
      },
      "execution_count": 47,
      "outputs": [
        {
          "output_type": "execute_result",
          "data": {
            "text/plain": [
              "{'churn_probability': 0.9282218018527452, 'churn': True}"
            ]
          },
          "metadata": {},
          "execution_count": 47
        }
      ]
    },
    {
      "cell_type": "markdown",
      "source": [
        "## Docker:"
      ],
      "metadata": {
        "id": "y2tmO9XlsNi0"
      }
    },
    {
      "cell_type": "code",
      "source": [
        "# console:\n",
        "# docker run python:3.9.12-slim\n",
        "# docker pull svizor/zoomcamp-model:3.9.12-slim\n",
        "# within docker:\n",
        "# run: svizor/zoomcamp-model:3.9.12-slim\n",
        "# open shell\n",
        "# ls -> list of files: [model2.bin, dv.bin]\n",
        "# pip install pipenv\n",
        "# pipenv install sklearn==1.0.2\n",
        "# pipenv shell\n",
        "# run: python\n",
        "# import pickle\n",
        "# \n"
      ],
      "metadata": {
        "id": "VqQSStqjmeoO"
      },
      "execution_count": null,
      "outputs": []
    },
    {
      "cell_type": "markdown",
      "source": [
        "## Question 6 \\\n",
        "Let's run your docker container! \\\n",
        "After running it, score this client once again:\n",
        "\n",
        "```\n",
        "client = {\"reports\": 0, \"share\": 0.245, \"expenditure\": 3.438, \"owner\": \"yes\"}\n",
        "```\n",
        "\n"
      ],
      "metadata": {
        "id": "jafb5WYm354X"
      }
    },
    {
      "cell_type": "code",
      "source": [
        "model2 = pickle.load(open('model2.bin', 'rb'))\n",
        "dv = pickle.load(open('dv.bin', 'rb'))\n",
        "\n",
        "client = {\"reports\": 0, \"share\": 0.245, \"expenditure\": 3.438, \"owner\": \"yes\"}\n",
        "X = dv.transform([client])\n",
        "model.predict_proba(X)[0, 1]"
      ],
      "metadata": {
        "id": "D9x-DoYi4DyF"
      },
      "execution_count": null,
      "outputs": []
    }
  ]
}