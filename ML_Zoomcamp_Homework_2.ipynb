{
  "nbformat": 4,
  "nbformat_minor": 0,
  "metadata": {
    "colab": {
      "provenance": [],
      "collapsed_sections": []
    },
    "kernelspec": {
      "name": "python3",
      "display_name": "Python 3"
    },
    "language_info": {
      "name": "python"
    }
  },
  "cells": [
    {
      "cell_type": "code",
      "metadata": {
        "colab": {
          "base_uri": "https://localhost:8080/"
        },
        "id": "rwpFO4Qc-A8f",
        "outputId": "da5b3ac1-967e-43f2-cd62-44ca94a5ccf2"
      },
      "source": [
        "!pip install wget"
      ],
      "execution_count": 1,
      "outputs": [
        {
          "output_type": "stream",
          "name": "stdout",
          "text": [
            "Looking in indexes: https://pypi.org/simple, https://us-python.pkg.dev/colab-wheels/public/simple/\n",
            "Requirement already satisfied: wget in /usr/local/lib/python3.7/dist-packages (3.2)\n"
          ]
        }
      ]
    },
    {
      "cell_type": "code",
      "metadata": {
        "id": "3xhCUm7U-SwL"
      },
      "source": [
        "import numpy as np\n",
        "import pandas as pd\n",
        "import matplotlib.pyplot as plt\n",
        "import seaborn as sns\n",
        "import wget\n",
        "pd.options.display.float_format = '{:,.4f}'.format"
      ],
      "execution_count": 2,
      "outputs": []
    },
    {
      "cell_type": "code",
      "metadata": {
        "colab": {
          "base_uri": "https://localhost:8080/",
          "height": 35
        },
        "id": "XGMfqAJJ-TLN",
        "outputId": "6a862022-2d9f-4cd2-de5b-57fd48a3a559"
      },
      "source": [
        "# Getting the data:\n",
        "\n",
        "wget.download('https://raw.githubusercontent.com/alexeygrigorev/datasets/master/housing.csv')"
      ],
      "execution_count": 4,
      "outputs": [
        {
          "output_type": "execute_result",
          "data": {
            "text/plain": [
              "'housing (1).csv'"
            ],
            "application/vnd.google.colaboratory.intrinsic+json": {
              "type": "string"
            }
          },
          "metadata": {},
          "execution_count": 4
        }
      ]
    },
    {
      "cell_type": "code",
      "metadata": {
        "colab": {
          "base_uri": "https://localhost:8080/"
        },
        "id": "UrL5mP66-aZe",
        "outputId": "88f53f67-629b-4301-b14b-fb75ae3c7ff3"
      },
      "source": [
        "# Opening File:\n",
        "\n",
        "df = pd.read_csv('housing.csv')\n",
        "df.columns"
      ],
      "execution_count": 5,
      "outputs": [
        {
          "output_type": "execute_result",
          "data": {
            "text/plain": [
              "Index(['longitude', 'latitude', 'housing_median_age', 'total_rooms',\n",
              "       'total_bedrooms', 'population', 'households', 'median_income',\n",
              "       'median_house_value', 'ocean_proximity'],\n",
              "      dtype='object')"
            ]
          },
          "metadata": {},
          "execution_count": 5
        }
      ]
    },
    {
      "cell_type": "code",
      "metadata": {
        "id": "iUFZCyrC-w7a"
      },
      "source": [
        "# Fixing df's text\n",
        "\n",
        "df.columns = df.columns.str.lower().str.replace(' ', '_')\n",
        "\n",
        "string_columns = list(df.dtypes[df.dtypes == 'object'].index)\n",
        "\n",
        "for col in string_columns:\n",
        "    df[col] = df[col].str.lower().str.replace(' ', '_')"
      ],
      "execution_count": 6,
      "outputs": []
    },
    {
      "cell_type": "code",
      "metadata": {
        "colab": {
          "base_uri": "https://localhost:8080/"
        },
        "id": "M7DBjDio_lFZ",
        "outputId": "7c14caac-7690-4a23-cd40-0fa06b22b521"
      },
      "source": [
        "# number of columns:\n",
        "len(df.columns)"
      ],
      "execution_count": 7,
      "outputs": [
        {
          "output_type": "execute_result",
          "data": {
            "text/plain": [
              "10"
            ]
          },
          "metadata": {},
          "execution_count": 7
        }
      ]
    },
    {
      "cell_type": "markdown",
      "metadata": {
        "id": "4AUIDNHe-2_-"
      },
      "source": [
        "# EDA:"
      ]
    },
    {
      "cell_type": "code",
      "metadata": {
        "colab": {
          "base_uri": "https://localhost:8080/",
          "height": 488
        },
        "id": "rTORwH4J-kej",
        "outputId": "6f0c872e-060c-44ed-c0d0-d0432a8c13b2"
      },
      "source": [
        "# Exploring the dataframe:\n",
        "\n",
        "df"
      ],
      "execution_count": 8,
      "outputs": [
        {
          "output_type": "execute_result",
          "data": {
            "text/plain": [
              "       longitude  latitude  housing_median_age  total_rooms  total_bedrooms  \\\n",
              "0      -122.2300   37.8800             41.0000     880.0000        129.0000   \n",
              "1      -122.2200   37.8600             21.0000   7,099.0000      1,106.0000   \n",
              "2      -122.2400   37.8500             52.0000   1,467.0000        190.0000   \n",
              "3      -122.2500   37.8500             52.0000   1,274.0000        235.0000   \n",
              "4      -122.2500   37.8500             52.0000   1,627.0000        280.0000   \n",
              "...          ...       ...                 ...          ...             ...   \n",
              "20635  -121.0900   39.4800             25.0000   1,665.0000        374.0000   \n",
              "20636  -121.2100   39.4900             18.0000     697.0000        150.0000   \n",
              "20637  -121.2200   39.4300             17.0000   2,254.0000        485.0000   \n",
              "20638  -121.3200   39.4300             18.0000   1,860.0000        409.0000   \n",
              "20639  -121.2400   39.3700             16.0000   2,785.0000        616.0000   \n",
              "\n",
              "       population  households  median_income  median_house_value  \\\n",
              "0        322.0000    126.0000         8.3252        452,600.0000   \n",
              "1      2,401.0000  1,138.0000         8.3014        358,500.0000   \n",
              "2        496.0000    177.0000         7.2574        352,100.0000   \n",
              "3        558.0000    219.0000         5.6431        341,300.0000   \n",
              "4        565.0000    259.0000         3.8462        342,200.0000   \n",
              "...           ...         ...            ...                 ...   \n",
              "20635    845.0000    330.0000         1.5603         78,100.0000   \n",
              "20636    356.0000    114.0000         2.5568         77,100.0000   \n",
              "20637  1,007.0000    433.0000         1.7000         92,300.0000   \n",
              "20638    741.0000    349.0000         1.8672         84,700.0000   \n",
              "20639  1,387.0000    530.0000         2.3886         89,400.0000   \n",
              "\n",
              "      ocean_proximity  \n",
              "0            near_bay  \n",
              "1            near_bay  \n",
              "2            near_bay  \n",
              "3            near_bay  \n",
              "4            near_bay  \n",
              "...               ...  \n",
              "20635          inland  \n",
              "20636          inland  \n",
              "20637          inland  \n",
              "20638          inland  \n",
              "20639          inland  \n",
              "\n",
              "[20640 rows x 10 columns]"
            ],
            "text/html": [
              "\n",
              "  <div id=\"df-7a5d23e6-6637-4776-b62c-ef2e7cf5468d\">\n",
              "    <div class=\"colab-df-container\">\n",
              "      <div>\n",
              "<style scoped>\n",
              "    .dataframe tbody tr th:only-of-type {\n",
              "        vertical-align: middle;\n",
              "    }\n",
              "\n",
              "    .dataframe tbody tr th {\n",
              "        vertical-align: top;\n",
              "    }\n",
              "\n",
              "    .dataframe thead th {\n",
              "        text-align: right;\n",
              "    }\n",
              "</style>\n",
              "<table border=\"1\" class=\"dataframe\">\n",
              "  <thead>\n",
              "    <tr style=\"text-align: right;\">\n",
              "      <th></th>\n",
              "      <th>longitude</th>\n",
              "      <th>latitude</th>\n",
              "      <th>housing_median_age</th>\n",
              "      <th>total_rooms</th>\n",
              "      <th>total_bedrooms</th>\n",
              "      <th>population</th>\n",
              "      <th>households</th>\n",
              "      <th>median_income</th>\n",
              "      <th>median_house_value</th>\n",
              "      <th>ocean_proximity</th>\n",
              "    </tr>\n",
              "  </thead>\n",
              "  <tbody>\n",
              "    <tr>\n",
              "      <th>0</th>\n",
              "      <td>-122.2300</td>\n",
              "      <td>37.8800</td>\n",
              "      <td>41.0000</td>\n",
              "      <td>880.0000</td>\n",
              "      <td>129.0000</td>\n",
              "      <td>322.0000</td>\n",
              "      <td>126.0000</td>\n",
              "      <td>8.3252</td>\n",
              "      <td>452,600.0000</td>\n",
              "      <td>near_bay</td>\n",
              "    </tr>\n",
              "    <tr>\n",
              "      <th>1</th>\n",
              "      <td>-122.2200</td>\n",
              "      <td>37.8600</td>\n",
              "      <td>21.0000</td>\n",
              "      <td>7,099.0000</td>\n",
              "      <td>1,106.0000</td>\n",
              "      <td>2,401.0000</td>\n",
              "      <td>1,138.0000</td>\n",
              "      <td>8.3014</td>\n",
              "      <td>358,500.0000</td>\n",
              "      <td>near_bay</td>\n",
              "    </tr>\n",
              "    <tr>\n",
              "      <th>2</th>\n",
              "      <td>-122.2400</td>\n",
              "      <td>37.8500</td>\n",
              "      <td>52.0000</td>\n",
              "      <td>1,467.0000</td>\n",
              "      <td>190.0000</td>\n",
              "      <td>496.0000</td>\n",
              "      <td>177.0000</td>\n",
              "      <td>7.2574</td>\n",
              "      <td>352,100.0000</td>\n",
              "      <td>near_bay</td>\n",
              "    </tr>\n",
              "    <tr>\n",
              "      <th>3</th>\n",
              "      <td>-122.2500</td>\n",
              "      <td>37.8500</td>\n",
              "      <td>52.0000</td>\n",
              "      <td>1,274.0000</td>\n",
              "      <td>235.0000</td>\n",
              "      <td>558.0000</td>\n",
              "      <td>219.0000</td>\n",
              "      <td>5.6431</td>\n",
              "      <td>341,300.0000</td>\n",
              "      <td>near_bay</td>\n",
              "    </tr>\n",
              "    <tr>\n",
              "      <th>4</th>\n",
              "      <td>-122.2500</td>\n",
              "      <td>37.8500</td>\n",
              "      <td>52.0000</td>\n",
              "      <td>1,627.0000</td>\n",
              "      <td>280.0000</td>\n",
              "      <td>565.0000</td>\n",
              "      <td>259.0000</td>\n",
              "      <td>3.8462</td>\n",
              "      <td>342,200.0000</td>\n",
              "      <td>near_bay</td>\n",
              "    </tr>\n",
              "    <tr>\n",
              "      <th>...</th>\n",
              "      <td>...</td>\n",
              "      <td>...</td>\n",
              "      <td>...</td>\n",
              "      <td>...</td>\n",
              "      <td>...</td>\n",
              "      <td>...</td>\n",
              "      <td>...</td>\n",
              "      <td>...</td>\n",
              "      <td>...</td>\n",
              "      <td>...</td>\n",
              "    </tr>\n",
              "    <tr>\n",
              "      <th>20635</th>\n",
              "      <td>-121.0900</td>\n",
              "      <td>39.4800</td>\n",
              "      <td>25.0000</td>\n",
              "      <td>1,665.0000</td>\n",
              "      <td>374.0000</td>\n",
              "      <td>845.0000</td>\n",
              "      <td>330.0000</td>\n",
              "      <td>1.5603</td>\n",
              "      <td>78,100.0000</td>\n",
              "      <td>inland</td>\n",
              "    </tr>\n",
              "    <tr>\n",
              "      <th>20636</th>\n",
              "      <td>-121.2100</td>\n",
              "      <td>39.4900</td>\n",
              "      <td>18.0000</td>\n",
              "      <td>697.0000</td>\n",
              "      <td>150.0000</td>\n",
              "      <td>356.0000</td>\n",
              "      <td>114.0000</td>\n",
              "      <td>2.5568</td>\n",
              "      <td>77,100.0000</td>\n",
              "      <td>inland</td>\n",
              "    </tr>\n",
              "    <tr>\n",
              "      <th>20637</th>\n",
              "      <td>-121.2200</td>\n",
              "      <td>39.4300</td>\n",
              "      <td>17.0000</td>\n",
              "      <td>2,254.0000</td>\n",
              "      <td>485.0000</td>\n",
              "      <td>1,007.0000</td>\n",
              "      <td>433.0000</td>\n",
              "      <td>1.7000</td>\n",
              "      <td>92,300.0000</td>\n",
              "      <td>inland</td>\n",
              "    </tr>\n",
              "    <tr>\n",
              "      <th>20638</th>\n",
              "      <td>-121.3200</td>\n",
              "      <td>39.4300</td>\n",
              "      <td>18.0000</td>\n",
              "      <td>1,860.0000</td>\n",
              "      <td>409.0000</td>\n",
              "      <td>741.0000</td>\n",
              "      <td>349.0000</td>\n",
              "      <td>1.8672</td>\n",
              "      <td>84,700.0000</td>\n",
              "      <td>inland</td>\n",
              "    </tr>\n",
              "    <tr>\n",
              "      <th>20639</th>\n",
              "      <td>-121.2400</td>\n",
              "      <td>39.3700</td>\n",
              "      <td>16.0000</td>\n",
              "      <td>2,785.0000</td>\n",
              "      <td>616.0000</td>\n",
              "      <td>1,387.0000</td>\n",
              "      <td>530.0000</td>\n",
              "      <td>2.3886</td>\n",
              "      <td>89,400.0000</td>\n",
              "      <td>inland</td>\n",
              "    </tr>\n",
              "  </tbody>\n",
              "</table>\n",
              "<p>20640 rows × 10 columns</p>\n",
              "</div>\n",
              "      <button class=\"colab-df-convert\" onclick=\"convertToInteractive('df-7a5d23e6-6637-4776-b62c-ef2e7cf5468d')\"\n",
              "              title=\"Convert this dataframe to an interactive table.\"\n",
              "              style=\"display:none;\">\n",
              "        \n",
              "  <svg xmlns=\"http://www.w3.org/2000/svg\" height=\"24px\"viewBox=\"0 0 24 24\"\n",
              "       width=\"24px\">\n",
              "    <path d=\"M0 0h24v24H0V0z\" fill=\"none\"/>\n",
              "    <path d=\"M18.56 5.44l.94 2.06.94-2.06 2.06-.94-2.06-.94-.94-2.06-.94 2.06-2.06.94zm-11 1L8.5 8.5l.94-2.06 2.06-.94-2.06-.94L8.5 2.5l-.94 2.06-2.06.94zm10 10l.94 2.06.94-2.06 2.06-.94-2.06-.94-.94-2.06-.94 2.06-2.06.94z\"/><path d=\"M17.41 7.96l-1.37-1.37c-.4-.4-.92-.59-1.43-.59-.52 0-1.04.2-1.43.59L10.3 9.45l-7.72 7.72c-.78.78-.78 2.05 0 2.83L4 21.41c.39.39.9.59 1.41.59.51 0 1.02-.2 1.41-.59l7.78-7.78 2.81-2.81c.8-.78.8-2.07 0-2.86zM5.41 20L4 18.59l7.72-7.72 1.47 1.35L5.41 20z\"/>\n",
              "  </svg>\n",
              "      </button>\n",
              "      \n",
              "  <style>\n",
              "    .colab-df-container {\n",
              "      display:flex;\n",
              "      flex-wrap:wrap;\n",
              "      gap: 12px;\n",
              "    }\n",
              "\n",
              "    .colab-df-convert {\n",
              "      background-color: #E8F0FE;\n",
              "      border: none;\n",
              "      border-radius: 50%;\n",
              "      cursor: pointer;\n",
              "      display: none;\n",
              "      fill: #1967D2;\n",
              "      height: 32px;\n",
              "      padding: 0 0 0 0;\n",
              "      width: 32px;\n",
              "    }\n",
              "\n",
              "    .colab-df-convert:hover {\n",
              "      background-color: #E2EBFA;\n",
              "      box-shadow: 0px 1px 2px rgba(60, 64, 67, 0.3), 0px 1px 3px 1px rgba(60, 64, 67, 0.15);\n",
              "      fill: #174EA6;\n",
              "    }\n",
              "\n",
              "    [theme=dark] .colab-df-convert {\n",
              "      background-color: #3B4455;\n",
              "      fill: #D2E3FC;\n",
              "    }\n",
              "\n",
              "    [theme=dark] .colab-df-convert:hover {\n",
              "      background-color: #434B5C;\n",
              "      box-shadow: 0px 1px 3px 1px rgba(0, 0, 0, 0.15);\n",
              "      filter: drop-shadow(0px 1px 2px rgba(0, 0, 0, 0.3));\n",
              "      fill: #FFFFFF;\n",
              "    }\n",
              "  </style>\n",
              "\n",
              "      <script>\n",
              "        const buttonEl =\n",
              "          document.querySelector('#df-7a5d23e6-6637-4776-b62c-ef2e7cf5468d button.colab-df-convert');\n",
              "        buttonEl.style.display =\n",
              "          google.colab.kernel.accessAllowed ? 'block' : 'none';\n",
              "\n",
              "        async function convertToInteractive(key) {\n",
              "          const element = document.querySelector('#df-7a5d23e6-6637-4776-b62c-ef2e7cf5468d');\n",
              "          const dataTable =\n",
              "            await google.colab.kernel.invokeFunction('convertToInteractive',\n",
              "                                                     [key], {});\n",
              "          if (!dataTable) return;\n",
              "\n",
              "          const docLinkHtml = 'Like what you see? Visit the ' +\n",
              "            '<a target=\"_blank\" href=https://colab.research.google.com/notebooks/data_table.ipynb>data table notebook</a>'\n",
              "            + ' to learn more about interactive tables.';\n",
              "          element.innerHTML = '';\n",
              "          dataTable['output_type'] = 'display_data';\n",
              "          await google.colab.output.renderOutput(dataTable, element);\n",
              "          const docLink = document.createElement('div');\n",
              "          docLink.innerHTML = docLinkHtml;\n",
              "          element.appendChild(docLink);\n",
              "        }\n",
              "      </script>\n",
              "    </div>\n",
              "  </div>\n",
              "  "
            ]
          },
          "metadata": {},
          "execution_count": 8
        }
      ]
    },
    {
      "cell_type": "code",
      "metadata": {
        "colab": {
          "base_uri": "https://localhost:8080/",
          "height": 458
        },
        "id": "_dm2n364ACQo",
        "outputId": "4daf85c6-74d7-4e46-d1f0-d6f0b57a674b"
      },
      "source": [
        "# descriptive statistics:\n",
        "df.describe(include='all')"
      ],
      "execution_count": 9,
      "outputs": [
        {
          "output_type": "execute_result",
          "data": {
            "text/plain": [
              "         longitude    latitude  housing_median_age  total_rooms  \\\n",
              "count  20,640.0000 20,640.0000         20,640.0000  20,640.0000   \n",
              "unique         NaN         NaN                 NaN          NaN   \n",
              "top            NaN         NaN                 NaN          NaN   \n",
              "freq           NaN         NaN                 NaN          NaN   \n",
              "mean     -119.5697     35.6319             28.6395   2,635.7631   \n",
              "std         2.0035      2.1360             12.5856   2,181.6153   \n",
              "min      -124.3500     32.5400              1.0000       2.0000   \n",
              "25%      -121.8000     33.9300             18.0000   1,447.7500   \n",
              "50%      -118.4900     34.2600             29.0000   2,127.0000   \n",
              "75%      -118.0100     37.7100             37.0000   3,148.0000   \n",
              "max      -114.3100     41.9500             52.0000  39,320.0000   \n",
              "\n",
              "        total_bedrooms  population  households  median_income  \\\n",
              "count      20,433.0000 20,640.0000 20,640.0000    20,640.0000   \n",
              "unique             NaN         NaN         NaN            NaN   \n",
              "top                NaN         NaN         NaN            NaN   \n",
              "freq               NaN         NaN         NaN            NaN   \n",
              "mean          537.8706  1,425.4767    499.5397         3.8707   \n",
              "std           421.3851  1,132.4621    382.3298         1.8998   \n",
              "min             1.0000      3.0000      1.0000         0.4999   \n",
              "25%           296.0000    787.0000    280.0000         2.5634   \n",
              "50%           435.0000  1,166.0000    409.0000         3.5348   \n",
              "75%           647.0000  1,725.0000    605.0000         4.7432   \n",
              "max         6,445.0000 35,682.0000  6,082.0000        15.0001   \n",
              "\n",
              "        median_house_value ocean_proximity  \n",
              "count          20,640.0000           20640  \n",
              "unique                 NaN               5  \n",
              "top                    NaN       <1h_ocean  \n",
              "freq                   NaN            9136  \n",
              "mean          206,855.8169             NaN  \n",
              "std           115,395.6159             NaN  \n",
              "min            14,999.0000             NaN  \n",
              "25%           119,600.0000             NaN  \n",
              "50%           179,700.0000             NaN  \n",
              "75%           264,725.0000             NaN  \n",
              "max           500,001.0000             NaN  "
            ],
            "text/html": [
              "\n",
              "  <div id=\"df-c82cfa25-a583-49c4-bece-6e2cbae9645f\">\n",
              "    <div class=\"colab-df-container\">\n",
              "      <div>\n",
              "<style scoped>\n",
              "    .dataframe tbody tr th:only-of-type {\n",
              "        vertical-align: middle;\n",
              "    }\n",
              "\n",
              "    .dataframe tbody tr th {\n",
              "        vertical-align: top;\n",
              "    }\n",
              "\n",
              "    .dataframe thead th {\n",
              "        text-align: right;\n",
              "    }\n",
              "</style>\n",
              "<table border=\"1\" class=\"dataframe\">\n",
              "  <thead>\n",
              "    <tr style=\"text-align: right;\">\n",
              "      <th></th>\n",
              "      <th>longitude</th>\n",
              "      <th>latitude</th>\n",
              "      <th>housing_median_age</th>\n",
              "      <th>total_rooms</th>\n",
              "      <th>total_bedrooms</th>\n",
              "      <th>population</th>\n",
              "      <th>households</th>\n",
              "      <th>median_income</th>\n",
              "      <th>median_house_value</th>\n",
              "      <th>ocean_proximity</th>\n",
              "    </tr>\n",
              "  </thead>\n",
              "  <tbody>\n",
              "    <tr>\n",
              "      <th>count</th>\n",
              "      <td>20,640.0000</td>\n",
              "      <td>20,640.0000</td>\n",
              "      <td>20,640.0000</td>\n",
              "      <td>20,640.0000</td>\n",
              "      <td>20,433.0000</td>\n",
              "      <td>20,640.0000</td>\n",
              "      <td>20,640.0000</td>\n",
              "      <td>20,640.0000</td>\n",
              "      <td>20,640.0000</td>\n",
              "      <td>20640</td>\n",
              "    </tr>\n",
              "    <tr>\n",
              "      <th>unique</th>\n",
              "      <td>NaN</td>\n",
              "      <td>NaN</td>\n",
              "      <td>NaN</td>\n",
              "      <td>NaN</td>\n",
              "      <td>NaN</td>\n",
              "      <td>NaN</td>\n",
              "      <td>NaN</td>\n",
              "      <td>NaN</td>\n",
              "      <td>NaN</td>\n",
              "      <td>5</td>\n",
              "    </tr>\n",
              "    <tr>\n",
              "      <th>top</th>\n",
              "      <td>NaN</td>\n",
              "      <td>NaN</td>\n",
              "      <td>NaN</td>\n",
              "      <td>NaN</td>\n",
              "      <td>NaN</td>\n",
              "      <td>NaN</td>\n",
              "      <td>NaN</td>\n",
              "      <td>NaN</td>\n",
              "      <td>NaN</td>\n",
              "      <td>&lt;1h_ocean</td>\n",
              "    </tr>\n",
              "    <tr>\n",
              "      <th>freq</th>\n",
              "      <td>NaN</td>\n",
              "      <td>NaN</td>\n",
              "      <td>NaN</td>\n",
              "      <td>NaN</td>\n",
              "      <td>NaN</td>\n",
              "      <td>NaN</td>\n",
              "      <td>NaN</td>\n",
              "      <td>NaN</td>\n",
              "      <td>NaN</td>\n",
              "      <td>9136</td>\n",
              "    </tr>\n",
              "    <tr>\n",
              "      <th>mean</th>\n",
              "      <td>-119.5697</td>\n",
              "      <td>35.6319</td>\n",
              "      <td>28.6395</td>\n",
              "      <td>2,635.7631</td>\n",
              "      <td>537.8706</td>\n",
              "      <td>1,425.4767</td>\n",
              "      <td>499.5397</td>\n",
              "      <td>3.8707</td>\n",
              "      <td>206,855.8169</td>\n",
              "      <td>NaN</td>\n",
              "    </tr>\n",
              "    <tr>\n",
              "      <th>std</th>\n",
              "      <td>2.0035</td>\n",
              "      <td>2.1360</td>\n",
              "      <td>12.5856</td>\n",
              "      <td>2,181.6153</td>\n",
              "      <td>421.3851</td>\n",
              "      <td>1,132.4621</td>\n",
              "      <td>382.3298</td>\n",
              "      <td>1.8998</td>\n",
              "      <td>115,395.6159</td>\n",
              "      <td>NaN</td>\n",
              "    </tr>\n",
              "    <tr>\n",
              "      <th>min</th>\n",
              "      <td>-124.3500</td>\n",
              "      <td>32.5400</td>\n",
              "      <td>1.0000</td>\n",
              "      <td>2.0000</td>\n",
              "      <td>1.0000</td>\n",
              "      <td>3.0000</td>\n",
              "      <td>1.0000</td>\n",
              "      <td>0.4999</td>\n",
              "      <td>14,999.0000</td>\n",
              "      <td>NaN</td>\n",
              "    </tr>\n",
              "    <tr>\n",
              "      <th>25%</th>\n",
              "      <td>-121.8000</td>\n",
              "      <td>33.9300</td>\n",
              "      <td>18.0000</td>\n",
              "      <td>1,447.7500</td>\n",
              "      <td>296.0000</td>\n",
              "      <td>787.0000</td>\n",
              "      <td>280.0000</td>\n",
              "      <td>2.5634</td>\n",
              "      <td>119,600.0000</td>\n",
              "      <td>NaN</td>\n",
              "    </tr>\n",
              "    <tr>\n",
              "      <th>50%</th>\n",
              "      <td>-118.4900</td>\n",
              "      <td>34.2600</td>\n",
              "      <td>29.0000</td>\n",
              "      <td>2,127.0000</td>\n",
              "      <td>435.0000</td>\n",
              "      <td>1,166.0000</td>\n",
              "      <td>409.0000</td>\n",
              "      <td>3.5348</td>\n",
              "      <td>179,700.0000</td>\n",
              "      <td>NaN</td>\n",
              "    </tr>\n",
              "    <tr>\n",
              "      <th>75%</th>\n",
              "      <td>-118.0100</td>\n",
              "      <td>37.7100</td>\n",
              "      <td>37.0000</td>\n",
              "      <td>3,148.0000</td>\n",
              "      <td>647.0000</td>\n",
              "      <td>1,725.0000</td>\n",
              "      <td>605.0000</td>\n",
              "      <td>4.7432</td>\n",
              "      <td>264,725.0000</td>\n",
              "      <td>NaN</td>\n",
              "    </tr>\n",
              "    <tr>\n",
              "      <th>max</th>\n",
              "      <td>-114.3100</td>\n",
              "      <td>41.9500</td>\n",
              "      <td>52.0000</td>\n",
              "      <td>39,320.0000</td>\n",
              "      <td>6,445.0000</td>\n",
              "      <td>35,682.0000</td>\n",
              "      <td>6,082.0000</td>\n",
              "      <td>15.0001</td>\n",
              "      <td>500,001.0000</td>\n",
              "      <td>NaN</td>\n",
              "    </tr>\n",
              "  </tbody>\n",
              "</table>\n",
              "</div>\n",
              "      <button class=\"colab-df-convert\" onclick=\"convertToInteractive('df-c82cfa25-a583-49c4-bece-6e2cbae9645f')\"\n",
              "              title=\"Convert this dataframe to an interactive table.\"\n",
              "              style=\"display:none;\">\n",
              "        \n",
              "  <svg xmlns=\"http://www.w3.org/2000/svg\" height=\"24px\"viewBox=\"0 0 24 24\"\n",
              "       width=\"24px\">\n",
              "    <path d=\"M0 0h24v24H0V0z\" fill=\"none\"/>\n",
              "    <path d=\"M18.56 5.44l.94 2.06.94-2.06 2.06-.94-2.06-.94-.94-2.06-.94 2.06-2.06.94zm-11 1L8.5 8.5l.94-2.06 2.06-.94-2.06-.94L8.5 2.5l-.94 2.06-2.06.94zm10 10l.94 2.06.94-2.06 2.06-.94-2.06-.94-.94-2.06-.94 2.06-2.06.94z\"/><path d=\"M17.41 7.96l-1.37-1.37c-.4-.4-.92-.59-1.43-.59-.52 0-1.04.2-1.43.59L10.3 9.45l-7.72 7.72c-.78.78-.78 2.05 0 2.83L4 21.41c.39.39.9.59 1.41.59.51 0 1.02-.2 1.41-.59l7.78-7.78 2.81-2.81c.8-.78.8-2.07 0-2.86zM5.41 20L4 18.59l7.72-7.72 1.47 1.35L5.41 20z\"/>\n",
              "  </svg>\n",
              "      </button>\n",
              "      \n",
              "  <style>\n",
              "    .colab-df-container {\n",
              "      display:flex;\n",
              "      flex-wrap:wrap;\n",
              "      gap: 12px;\n",
              "    }\n",
              "\n",
              "    .colab-df-convert {\n",
              "      background-color: #E8F0FE;\n",
              "      border: none;\n",
              "      border-radius: 50%;\n",
              "      cursor: pointer;\n",
              "      display: none;\n",
              "      fill: #1967D2;\n",
              "      height: 32px;\n",
              "      padding: 0 0 0 0;\n",
              "      width: 32px;\n",
              "    }\n",
              "\n",
              "    .colab-df-convert:hover {\n",
              "      background-color: #E2EBFA;\n",
              "      box-shadow: 0px 1px 2px rgba(60, 64, 67, 0.3), 0px 1px 3px 1px rgba(60, 64, 67, 0.15);\n",
              "      fill: #174EA6;\n",
              "    }\n",
              "\n",
              "    [theme=dark] .colab-df-convert {\n",
              "      background-color: #3B4455;\n",
              "      fill: #D2E3FC;\n",
              "    }\n",
              "\n",
              "    [theme=dark] .colab-df-convert:hover {\n",
              "      background-color: #434B5C;\n",
              "      box-shadow: 0px 1px 3px 1px rgba(0, 0, 0, 0.15);\n",
              "      filter: drop-shadow(0px 1px 2px rgba(0, 0, 0, 0.3));\n",
              "      fill: #FFFFFF;\n",
              "    }\n",
              "  </style>\n",
              "\n",
              "      <script>\n",
              "        const buttonEl =\n",
              "          document.querySelector('#df-c82cfa25-a583-49c4-bece-6e2cbae9645f button.colab-df-convert');\n",
              "        buttonEl.style.display =\n",
              "          google.colab.kernel.accessAllowed ? 'block' : 'none';\n",
              "\n",
              "        async function convertToInteractive(key) {\n",
              "          const element = document.querySelector('#df-c82cfa25-a583-49c4-bece-6e2cbae9645f');\n",
              "          const dataTable =\n",
              "            await google.colab.kernel.invokeFunction('convertToInteractive',\n",
              "                                                     [key], {});\n",
              "          if (!dataTable) return;\n",
              "\n",
              "          const docLinkHtml = 'Like what you see? Visit the ' +\n",
              "            '<a target=\"_blank\" href=https://colab.research.google.com/notebooks/data_table.ipynb>data table notebook</a>'\n",
              "            + ' to learn more about interactive tables.';\n",
              "          element.innerHTML = '';\n",
              "          dataTable['output_type'] = 'display_data';\n",
              "          await google.colab.output.renderOutput(dataTable, element);\n",
              "          const docLink = document.createElement('div');\n",
              "          docLink.innerHTML = docLinkHtml;\n",
              "          element.appendChild(docLink);\n",
              "        }\n",
              "      </script>\n",
              "    </div>\n",
              "  </div>\n",
              "  "
            ]
          },
          "metadata": {},
          "execution_count": 9
        }
      ]
    },
    {
      "cell_type": "code",
      "source": [
        "df.info()"
      ],
      "metadata": {
        "colab": {
          "base_uri": "https://localhost:8080/"
        },
        "id": "6jqmCyri9P2z",
        "outputId": "383f4787-80ac-4126-bcd7-37ce477bd84b"
      },
      "execution_count": 10,
      "outputs": [
        {
          "output_type": "stream",
          "name": "stdout",
          "text": [
            "<class 'pandas.core.frame.DataFrame'>\n",
            "RangeIndex: 20640 entries, 0 to 20639\n",
            "Data columns (total 10 columns):\n",
            " #   Column              Non-Null Count  Dtype  \n",
            "---  ------              --------------  -----  \n",
            " 0   longitude           20640 non-null  float64\n",
            " 1   latitude            20640 non-null  float64\n",
            " 2   housing_median_age  20640 non-null  float64\n",
            " 3   total_rooms         20640 non-null  float64\n",
            " 4   total_bedrooms      20433 non-null  float64\n",
            " 5   population          20640 non-null  float64\n",
            " 6   households          20640 non-null  float64\n",
            " 7   median_income       20640 non-null  float64\n",
            " 8   median_house_value  20640 non-null  float64\n",
            " 9   ocean_proximity     20640 non-null  object \n",
            "dtypes: float64(9), object(1)\n",
            "memory usage: 1.6+ MB\n"
          ]
        }
      ]
    },
    {
      "cell_type": "code",
      "metadata": {
        "colab": {
          "base_uri": "https://localhost:8080/"
        },
        "id": "Gx_kl66T_uda",
        "outputId": "361e4c9a-1eba-426c-c1e6-deff8d77a08b"
      },
      "source": [
        "df.isnull().sum()"
      ],
      "execution_count": 11,
      "outputs": [
        {
          "output_type": "execute_result",
          "data": {
            "text/plain": [
              "longitude               0\n",
              "latitude                0\n",
              "housing_median_age      0\n",
              "total_rooms             0\n",
              "total_bedrooms        207\n",
              "population              0\n",
              "households              0\n",
              "median_income           0\n",
              "median_house_value      0\n",
              "ocean_proximity         0\n",
              "dtype: int64"
            ]
          },
          "metadata": {},
          "execution_count": 11
        }
      ]
    },
    {
      "cell_type": "code",
      "source": [
        "# median of population:\n",
        "df.population.median()"
      ],
      "metadata": {
        "colab": {
          "base_uri": "https://localhost:8080/"
        },
        "id": "ynXl6W8k9hUn",
        "outputId": "d17c2b9f-4a01-423f-9a6a-0f5c2c145b38"
      },
      "execution_count": 12,
      "outputs": [
        {
          "output_type": "execute_result",
          "data": {
            "text/plain": [
              "1166.0"
            ]
          },
          "metadata": {},
          "execution_count": 12
        }
      ]
    },
    {
      "cell_type": "code",
      "source": [
        "# fill na with mean or zero?\n",
        "\n",
        "n = len(df)\n",
        "\n",
        "n_val = int(0.2 * n)\n",
        "n_test = int(0.2 * n)\n",
        "n_train = n - (n_val + n_test)\n",
        "\n",
        "idx = np.arange(n)\n",
        "np.random.seed(42)\n",
        "np.random.shuffle(idx)\n",
        "\n",
        "df_shuffled = df.iloc[idx]\n",
        "\n",
        "df_train = df_shuffled.iloc[:n_train].copy()\n",
        "df_val = df_shuffled.iloc[n_train:n_train+n_val].copy()\n",
        "df_test = df_shuffled.iloc[n_train+n_val:].copy()\n",
        "\n",
        "df_train = df_train.reset_index(drop=True)\n",
        "df_val = df_val.reset_index(drop=True)\n",
        "df_test = df_test.reset_index(drop=True)\n",
        "\n",
        "y_train_orig = df_train.median_house_value.values\n",
        "y_val_orig = df_val.median_house_value.values\n",
        "y_test_orig = df_test.median_house_value.values\n",
        "\n",
        "y_train = np.log1p(y_train_orig)\n",
        "y_val = np.log1p(y_val_orig)\n",
        "y_test = np.log1p(y_test_orig)\n",
        "\n",
        "del df_train['median_house_value']\n",
        "del df_val['median_house_value']\n",
        "del df_test['median_house_value']\n",
        "\n",
        "check = ['longitude',\t'latitude',\t'housing_median_age',\t'total_rooms',\t\n",
        "         'total_bedrooms',\t'population',\t'households', 'median_income']\n",
        "\n",
        "def prepare_X(df, fillna_value):\n",
        "    df_num = df[check]\n",
        "    df_num = df_num.fillna(fillna_value)\n",
        "    X = df_num.values\n",
        "    return X\n",
        "\n",
        "def rmse(y, y_pred):\n",
        "    error = y_pred - y\n",
        "    mse = (error ** 2).mean()\n",
        "    return np.sqrt(mse)\n",
        "\n",
        "def train_linear_regression(X, y):\n",
        "    ones = np.ones(X.shape[0])\n",
        "    X = np.column_stack([ones, X])\n",
        "\n",
        "    XTX = X.T.dot(X)\n",
        "    XTX_inv = np.linalg.inv(XTX)\n",
        "    w = XTX_inv.dot(X.T).dot(y)\n",
        "    return w[0], w[1:]\n",
        "\n",
        "mean = df_train.total_bedrooms.mean()\n",
        "\n",
        "X_mean_train = prepare_X(df_train, fillna_value=mean)\n",
        "w_0_mean, w_mean = train_linear_regression(X_mean_train, y_train)\n",
        "\n",
        "X_mean_val = prepare_X(df_val, fillna_value=mean)\n",
        "y_mean_pred_val = w_0_mean + X_mean_val.dot(w_mean)\n",
        "\n",
        "print(np.round(rmse(y_val, y_mean_pred_val),2))\n",
        "\n",
        "X_null_train = prepare_X(df_train, fillna_value=0)\n",
        "w_0_null, w_null = train_linear_regression(X_null_train, y_train)\n",
        "\n",
        "X_null_val = prepare_X(df_val, fillna_value=0)\n",
        "y_null_pred_val = w_0_null + X_null_val.dot(w_null)\n",
        "\n",
        "print(np.round(rmse(y_val, y_null_pred_val),2))"
      ],
      "metadata": {
        "colab": {
          "base_uri": "https://localhost:8080/"
        },
        "id": "lMGeBNYa91xf",
        "outputId": "e45126b9-ebc7-441f-82dd-419d4519d511"
      },
      "execution_count": 13,
      "outputs": [
        {
          "output_type": "stream",
          "name": "stdout",
          "text": [
            "0.33\n",
            "0.33\n"
          ]
        }
      ]
    },
    {
      "cell_type": "code",
      "source": [
        "def train_linear_regression_reg(X, y, r=0.0):\n",
        "    ones = np.ones(X.shape[0])\n",
        "    X = np.column_stack([ones, X])\n",
        "\n",
        "    XTX = X.T.dot(X)\n",
        "    reg = r * np.eye(XTX.shape[0])\n",
        "    XTX = XTX + reg\n",
        "\n",
        "    XTX_inv = np.linalg.inv(XTX)\n",
        "    w = XTX_inv.dot(X.T).dot(y)\n",
        "    \n",
        "    return w[0], w[1:]\n",
        "\n",
        "remse_list = []\n",
        "for r in [0, 0.000001, 0.0001, 0.001, 0.01, 0.1, 1, 5, 10]:\n",
        "    w_0, w = train_linear_regression_reg(X_null_train, y_train, r=r)\n",
        "    y_null_reg_val = w_0 + X_null_val.dot(w)\n",
        "    rmse_val = np.round(rmse(y_val, y_null_reg_val),10)\n",
        "    print(r, w_0, rmse_val)\n",
        "    remse_list.append(rmse_val)"
      ],
      "metadata": {
        "colab": {
          "base_uri": "https://localhost:8080/"
        },
        "id": "TRsbEMbuNc8W",
        "outputId": "6a335dc0-542a-4642-aeef-c4213eeff286"
      },
      "execution_count": 14,
      "outputs": [
        {
          "output_type": "stream",
          "name": "stdout",
          "text": [
            "0 -11.686975242036546 0.3295330365\n",
            "1e-06 -11.686959175728921 0.3295330362\n",
            "0.0001 -11.685368865034667 0.329533001\n",
            "0.001 -11.670931317799797 0.3295327039\n",
            "0.01 -11.528493585632091 0.3295319366\n",
            "0.1 -10.274500282195673 0.3296947205\n",
            "1 -4.920480897742212 0.333788722\n",
            "5 -1.482095745621172 0.3392485346\n",
            "10 -0.7899311831779245 0.3406063808\n"
          ]
        }
      ]
    },
    {
      "cell_type": "code",
      "source": [
        "remse_min = 10\n",
        "count = 0\n",
        "for i in remse_list:\n",
        "  count += 1\n",
        "  if i < remse_min:\n",
        "    remse_min = i\n",
        "\n",
        "print(remse_min, remse_list.index(remse_min), [0, 0.000001, 0.0001, 0.001, 0.01, 0.1, 1, 5, 10][remse_list.index(remse_min)])"
      ],
      "metadata": {
        "colab": {
          "base_uri": "https://localhost:8080/"
        },
        "id": "DKP_7_K1OGBi",
        "outputId": "befb0838-c260-47c7-86d4-4dcb36f1951d"
      },
      "execution_count": 15,
      "outputs": [
        {
          "output_type": "stream",
          "name": "stdout",
          "text": [
            "0.3295319366 4 0.01\n"
          ]
        }
      ]
    },
    {
      "cell_type": "code",
      "source": [
        "rmse_list = []\n",
        "\n",
        "for r in [0, 1, 2, 3, 4, 5, 6, 7, 8, 9]:\n",
        "\n",
        "    idx = np.arange(n)\n",
        "    np.random.seed(r)\n",
        "    np.random.shuffle(idx)\n",
        "\n",
        "    df_shuffled = df.iloc[idx]\n",
        "    \n",
        "    df_train = df_shuffled.iloc[:n_train].copy()\n",
        "    df_val = df_shuffled.iloc[n_train:n_train+n_val].copy()\n",
        "    df_test = df_shuffled.iloc[n_train+n_val:].copy()\n",
        "\n",
        "    df_train = df_train.reset_index(drop=True)\n",
        "    df_val = df_val.reset_index(drop=True)\n",
        "    df_test = df_test.reset_index(drop=True)\n",
        "    \n",
        "    y_train_orig = df_train.median_house_value.values\n",
        "    y_val_orig = df_val.median_house_value.values\n",
        "    y_test_orig = df_test.median_house_value.values\n",
        "\n",
        "    y_train = np.log1p(y_train_orig)\n",
        "    y_val = np.log1p(y_val_orig)\n",
        "    y_test = np.log1p(y_test_orig)\n",
        "    \n",
        "    del df_train['median_house_value']\n",
        "    del df_val['median_house_value']\n",
        "    del df_test['median_house_value']\n",
        "    \n",
        "    X_null_train = prepare_X(df_train, fillna_value=0)\n",
        "    w_0, w = train_linear_regression(X_null_train, y_train)\n",
        "    \n",
        "    X_null_val = prepare_X(df_val, fillna_value=0)\n",
        "    y_null_reg_val = w_0 + X_null_val.dot(w)\n",
        "    rmse_val = np.round(rmse(y_val, y_null_reg_val),2)\n",
        "    \n",
        "    rmse_list.append(rmse_val)\n",
        "    \n",
        "    print(r, w_0, rmse_val)"
      ],
      "metadata": {
        "colab": {
          "base_uri": "https://localhost:8080/"
        },
        "id": "9TKksCqKPIfq",
        "outputId": "844bafb3-95d7-4a7d-d915-f65b366eccdc"
      },
      "execution_count": 16,
      "outputs": [
        {
          "output_type": "stream",
          "name": "stdout",
          "text": [
            "0 -11.900382138125133 0.34\n",
            "1 -11.732757372921618 0.34\n",
            "2 -11.806729361193014 0.33\n",
            "3 -11.587900347753235 0.34\n",
            "4 -11.38947058831824 0.34\n",
            "5 -11.447114275587968 0.34\n",
            "6 -11.370516351548385 0.35\n",
            "7 -12.47344891889502 0.34\n",
            "8 -11.800287429792748 0.35\n",
            "9 -11.459046830736924 0.34\n"
          ]
        }
      ]
    },
    {
      "cell_type": "code",
      "source": [
        "np.std(rmse_list)"
      ],
      "metadata": {
        "colab": {
          "base_uri": "https://localhost:8080/"
        },
        "id": "SN8mYUWUQEBE",
        "outputId": "8020bbda-b7ec-49ca-90b1-222885a60ff2"
      },
      "execution_count": 17,
      "outputs": [
        {
          "output_type": "execute_result",
          "data": {
            "text/plain": [
              "0.005385164807134491"
            ]
          },
          "metadata": {},
          "execution_count": 17
        }
      ]
    },
    {
      "cell_type": "code",
      "source": [
        "n = len(df)\n",
        "\n",
        "n_test = int(0.2 * n)\n",
        "n_train = n - (n_test)\n",
        "\n",
        "idx = np.arange(n)\n",
        "np.random.seed(9)\n",
        "np.random.shuffle(idx)\n",
        "\n",
        "df_shuffled = df.iloc[idx]\n",
        "\n",
        "df_train = df_shuffled.iloc[:n_train].copy()\n",
        "df_test = df_shuffled.iloc[n_train:].copy()\n",
        "\n",
        "df_train = df_train.reset_index(drop=True)\n",
        "df_test = df_test.reset_index(drop=True)\n",
        "\n",
        "X_null_train = prepare_X(df_train, fillna_value=0)\n",
        "X_null_test = prepare_X(df_test, fillna_value=0)\n",
        "\n",
        "y_train_orig = df_train.median_house_value.values\n",
        "y_test_orig = df_test.median_house_value.values\n",
        "\n",
        "y_train = np.log1p(y_train_orig)\n",
        "y_test = np.log1p(y_test_orig)\n",
        "\n",
        "del df_train['median_house_value']\n",
        "del df_test['median_house_value']\n",
        "\n",
        "check = ['longitude',\t'latitude',\t'housing_median_age',\t'total_rooms',\t\n",
        "         'total_bedrooms',\t'population',\t'households', 'median_income']\n",
        "\n",
        "w_0, w = train_linear_regression_reg(X_null_train, y_train, r=0.001)\n",
        "y_null_reg_test = w_0 + X_null_test.dot(w)\n",
        "rmse_val = np.round(rmse(y_test, y_null_reg_test),2)\n",
        "\n",
        "print(rmse_val)"
      ],
      "metadata": {
        "colab": {
          "base_uri": "https://localhost:8080/"
        },
        "id": "EQRLOa11QSGd",
        "outputId": "e68b5892-eac0-4f46-9f86-34b2e943e924"
      },
      "execution_count": 18,
      "outputs": [
        {
          "output_type": "stream",
          "name": "stdout",
          "text": [
            "0.35\n"
          ]
        }
      ]
    },
    {
      "cell_type": "code",
      "metadata": {
        "colab": {
          "base_uri": "https://localhost:8080/",
          "height": 295
        },
        "id": "7JQ00qr-ALz3",
        "outputId": "9742ee6a-2be6-402d-f14c-73e79d597e21"
      },
      "source": [
        "df['median_house_value_log'] = np.log1p(df['median_house_value'])\n",
        "\n",
        "plt.figure(figsize=(10, 4))\n",
        "\n",
        "sns.histplot(df['median_house_value_log'], bins=100, alpha=1)\n",
        "plt.ylabel('Frequency')\n",
        "plt.xlabel('Log Price')\n",
        "plt.title('Distribution of log median house value')\n",
        "\n",
        "plt.show()"
      ],
      "execution_count": 19,
      "outputs": [
        {
          "output_type": "display_data",
          "data": {
            "text/plain": [
              "<Figure size 720x288 with 1 Axes>"
            ],
            "image/png": "[encoded data removed]"
          },
          "metadata": {
            "needs_background": "light"
          }
        }
      ]
    },
    {
      "cell_type": "code",
      "metadata": {
        "id": "M_wA54SsYYil"
      },
      "source": [],
      "execution_count": 19,
      "outputs": []
    }
  ]
}